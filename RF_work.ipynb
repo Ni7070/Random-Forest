{
  "nbformat": 4,
  "nbformat_minor": 0,
  "metadata": {
    "colab": {
      "provenance": [],
      "authorship_tag": "ABX9TyOfJb2Ti5XdazZhDHvaplEl",
      "include_colab_link": true
    },
    "kernelspec": {
      "name": "python3",
      "display_name": "Python 3"
    },
    "language_info": {
      "name": "python"
    },
    "accelerator": "GPU"
  },
  "cells": [
    {
      "cell_type": "markdown",
      "metadata": {
        "id": "view-in-github",
        "colab_type": "text"
      },
      "source": [
        "<a href=\"https://colab.research.google.com/github/Ni7070/Random-Forest/blob/master/RF_work.ipynb\" target=\"_parent\"><img src=\"https://colab.research.google.com/assets/colab-badge.svg\" alt=\"Open In Colab\"/></a>"
      ]
    },
    {
      "cell_type": "code",
      "execution_count": 1,
      "metadata": {
        "id": "qhNt1P41Mrvz"
      },
      "outputs": [],
      "source": [
        "from collections import Counter\n",
        "\n",
        "import numpy as np\n",
        "\n",
        "\n",
        "def entropy(y):\n",
        "    hist = np.bincount(y)\n",
        "    ps = hist / len(y)\n",
        "    return -np.sum([p * np.log2(p) for p in ps if p > 0])\n",
        "\n",
        "\n",
        "class Node:\n",
        "    def __init__(\n",
        "        self, feature=None, threshold=None, left=None, right=None, *, value=None\n",
        "    ):\n",
        "        self.feature = feature\n",
        "        self.threshold = threshold\n",
        "        self.left = left\n",
        "        self.right = right\n",
        "        self.value = value\n",
        "\n",
        "    def is_leaf_node(self):\n",
        "        return self.value is not None\n",
        "\n",
        "\n",
        "class DecisionTree:\n",
        "    def __init__(self, min_samples_split=2, max_depth=100, n_feats=None):\n",
        "        self.min_samples_split = min_samples_split\n",
        "        self.max_depth = max_depth\n",
        "        self.n_feats = n_feats\n",
        "        self.root = None\n",
        "\n",
        "    def fit(self, X, y):\n",
        "        self.n_feats = X.shape[1] if not self.n_feats else min(self.n_feats, X.shape[1])\n",
        "        self.root = self._grow_tree(X, y)\n",
        "\n",
        "    def predict(self, X):\n",
        "        return np.array([self._traverse_tree(x, self.root) for x in X])\n",
        "\n",
        "    def _grow_tree(self, X, y, depth=0):\n",
        "        n_samples, n_features = X.shape\n",
        "        n_labels = len(np.unique(y))\n",
        "\n",
        "        # stopping criteria\n",
        "        if (\n",
        "            depth >= self.max_depth\n",
        "            or n_labels == 1\n",
        "            or n_samples < self.min_samples_split\n",
        "        ):\n",
        "            leaf_value = self._most_common_label(y)\n",
        "            return Node(value=leaf_value)\n",
        "\n",
        "        feat_idxs = np.random.choice(n_features, self.n_feats, replace=False)\n",
        "\n",
        "        # greedily select the best split according to information gain\n",
        "        best_feat, best_thresh = self._best_criteria(X, y, feat_idxs)\n",
        "\n",
        "        # grow the children that result from the split\n",
        "        left_idxs, right_idxs = self._split(X[:, best_feat], best_thresh)\n",
        "        left = self._grow_tree(X[left_idxs, :], y[left_idxs], depth + 1)\n",
        "        right = self._grow_tree(X[right_idxs, :], y[right_idxs], depth + 1)\n",
        "        return Node(best_feat, best_thresh, left, right)\n",
        "\n",
        "    def _best_criteria(self, X, y, feat_idxs):\n",
        "        best_gain = -1\n",
        "        split_idx, split_thresh = None, None\n",
        "        for feat_idx in feat_idxs:\n",
        "            X_column = X[:, feat_idx]\n",
        "            thresholds = np.unique(X_column)\n",
        "            for threshold in thresholds:\n",
        "                gain = self._information_gain(y, X_column, threshold)\n",
        "\n",
        "                if gain > best_gain:\n",
        "                    best_gain = gain\n",
        "                    split_idx = feat_idx\n",
        "                    split_thresh = threshold\n",
        "\n",
        "        return split_idx, split_thresh\n",
        "\n",
        "    def _information_gain(self, y, X_column, split_thresh):\n",
        "        # parent loss\n",
        "        parent_entropy = entropy(y)\n",
        "\n",
        "        # generate split\n",
        "        left_idxs, right_idxs = self._split(X_column, split_thresh)\n",
        "\n",
        "        if len(left_idxs) == 0 or len(right_idxs) == 0:\n",
        "            return 0\n",
        "\n",
        "        # compute the weighted avg. of the loss for the children\n",
        "        n = len(y)\n",
        "        n_l, n_r = len(left_idxs), len(right_idxs)\n",
        "        e_l, e_r = entropy(y[left_idxs]), entropy(y[right_idxs])\n",
        "        child_entropy = (n_l / n) * e_l + (n_r / n) * e_r\n",
        "\n",
        "        # information gain is difference in loss before vs. after split\n",
        "        ig = parent_entropy - child_entropy\n",
        "        return ig\n",
        "\n",
        "    def _split(self, X_column, split_thresh):\n",
        "        left_idxs = np.argwhere(X_column <= split_thresh).flatten()\n",
        "        right_idxs = np.argwhere(X_column > split_thresh).flatten()\n",
        "        return left_idxs, right_idxs\n",
        "\n",
        "    def _traverse_tree(self, x, node):\n",
        "        if node.is_leaf_node():\n",
        "            return node.value\n",
        "\n",
        "        if x[node.feature] <= node.threshold:\n",
        "            return self._traverse_tree(x, node.left)\n",
        "        return self._traverse_tree(x, node.right)\n",
        "\n",
        "    def _most_common_label(self, y):\n",
        "        counter = Counter(y)\n",
        "        most_common = counter.most_common(1)[0][0]\n",
        "        return most_common"
      ]
    },
    {
      "cell_type": "code",
      "source": [
        "import numpy as np\n",
        "from joblib import dump\n",
        "# from decisiontree import DecisionTree\n",
        "from collections import Counter\n",
        "\n",
        "#import GA\n",
        "\n",
        "class RandomForest():\n",
        "    def __init__ (self, n_trees = 10, sample_sz = None, min_leaf = 5, max_depth=100, n_feats=None, isLLL = False):\n",
        "        np.random.seed(42)         \n",
        "                \n",
        "        self.sample_sz = sample_sz \n",
        "        self.min_leaf = min_leaf\n",
        "        self.n_trees = n_trees\n",
        "        self.max_depth = max_depth\n",
        "        self.n_feats = n_feats\n",
        "        self.trees = []\n",
        "\n",
        "    \n",
        "    def fit(self, X, y):\n",
        "        if self.sample_sz is None:\n",
        "            self.sample_sz = len(y)\n",
        "            \n",
        "        self.x, self.y  = X, y\n",
        "        self.trees = [self.create_tree() for i in range(self.n_trees)]\n",
        "                        \n",
        "        \n",
        "    def create_tree(self):\n",
        "        idxs = np.random.choice(len(self.y), replace=True, size = self.sample_sz)      \n",
        "        \n",
        "        tree = DecisionTree(\n",
        "                min_samples_split=self.min_leaf,\n",
        "                max_depth=self.max_depth,\n",
        "                n_feats=self.n_feats)\n",
        "        \n",
        "        tree.fit(self.x[idxs], self.y[idxs])\n",
        "        return tree    \n",
        "\n",
        "    \n",
        "    def predict(self, x):\n",
        "        # The predic function is classification\n",
        "        percents = np.mean([t.predict(x) for t in self.trees], axis=0)\n",
        "        return [1 if p>0.5 else 0 for p in percents]    \n",
        "        #tree_preds = np.array([tree.predict(X) for tree in self.trees])\n",
        "        #tree_preds = np.swapaxes(tree_preds, 0, 1)\n",
        "        #y_pred = [most_common_label(tree_pred) for tree_pred in tree_preds]\n",
        "        #return np.array(y_pred)\n",
        "    \n",
        "    \n",
        "    def predict_regressor(self, x):        \n",
        "        # for each tree, predict for each tree, then return the average\n",
        "        # using list comprehension\n",
        "        return np.mean([t.predict(x) for t in self.trees], axis=0)\n",
        "\n",
        "    \n",
        "    def continualLearner(self, oldmodel, newmodel=None):\n",
        "        #TODO: We need to implement this function for continial learning\n",
        "        # GA algorithm should be used to mutate the weights of the old and new \n",
        "        # deciion trees\n",
        "        \n",
        "        if newmodel == None:\n",
        "            newmodel = self.create_tree()\n",
        "        \n",
        "        \n",
        "        return\n",
        "    \n",
        "    def update(self,fileName):\n",
        "        #save existing RF model with weights in a sklearn (joblib) save format\n",
        "        # TODO: We may need to update this function later\n",
        "        dump({'model': self.trees}, fileName)\n",
        "        return\n",
        "    "
      ],
      "metadata": {
        "id": "h8A2A2W2NH3l"
      },
      "execution_count": 2,
      "outputs": []
    },
    {
      "cell_type": "code",
      "source": [
        "from sklearn import datasets\n",
        "import pandas as pd\n",
        "# from LLRF2 import RandomForest as RF\n",
        "import numpy as np\n",
        "from sklearn.model_selection import train_test_split\n",
        "\n",
        "\n",
        "def accuracy(y_true, y_pred):\n",
        "    accuracy = np.sum(y_true == y_pred) / len(y_true)\n",
        "    return accuracy"
      ],
      "metadata": {
        "id": "G97w511QNakB"
      },
      "execution_count": 3,
      "outputs": []
    },
    {
      "cell_type": "markdown",
      "source": [
        "Breast cancer Dataset"
      ],
      "metadata": {
        "id": "dqd30folOmnM"
      }
    },
    {
      "cell_type": "code",
      "source": [
        "# Load data from sklearn for classification\n",
        "breast_cancer = datasets.load_breast_cancer(as_frame=True)\n",
        "print(breast_cancer['data'])"
      ],
      "metadata": {
        "id": "B7F6--08OmHb"
      },
      "execution_count": null,
      "outputs": []
    },
    {
      "cell_type": "code",
      "source": [
        "#into dataframe\n",
        "df1 = pd.DataFrame(breast_cancer.data, columns = breast_cancer.feature_names)\n",
        "df1['target'] = breast_cancer.target\n",
        "df1.head()"
      ],
      "metadata": {
        "id": "GDhe_S0lO0yU"
      },
      "execution_count": null,
      "outputs": []
    },
    {
      "cell_type": "code",
      "source": [
        "# Build RF model\n",
        "# X1, Y1 = breast_cancer.data, breast_cancer.target\n",
        "\n",
        "# Data Split\n",
        "X1_train, X1_test, Y1_train, Y1_test = train_test_split(df1.drop(['target'], axis = 'columns'), breast_cancer.target, test_size = 0.5, random_state=42)"
      ],
      "metadata": {
        "id": "2p0Snrb3PHDa"
      },
      "execution_count": 6,
      "outputs": []
    },
    {
      "cell_type": "code",
      "source": [
        "Model1 = RandomForest(n_trees=100, sample_sz=None, min_leaf=5, isLLL = False)"
      ],
      "metadata": {
        "id": "_WZqyuYfPWZ7"
      },
      "execution_count": 7,
      "outputs": []
    },
    {
      "cell_type": "code",
      "source": [
        "X1_train = X1_train.to_numpy()\n",
        "Y1_train = Y1_train.to_numpy()\n",
        "Model1.fit(X1_train, Y1_train)"
      ],
      "metadata": {
        "id": "xtRUreSKPnbk"
      },
      "execution_count": 8,
      "outputs": []
    },
    {
      "cell_type": "code",
      "source": [
        "# Predict with the test dataset\n",
        "X1_test = X1_test.to_numpy() \n",
        "Y1_test = Y1_test.to_numpy() "
      ],
      "metadata": {
        "id": "Gwn_gQK5Qg6o"
      },
      "execution_count": null,
      "outputs": []
    },
    {
      "cell_type": "code",
      "source": [
        "y_pred = Model1.predict(X1_test)\n",
        "acc = accuracy(Y1_test, y_pred)\n",
        "print(\"Accuracy:\", acc*100, \"%\")   "
      ],
      "metadata": {
        "colab": {
          "base_uri": "https://localhost:8080/"
        },
        "id": "dxI-2xkUSCvY",
        "outputId": "122dec3e-d844-452e-b21c-25ab2cf41385"
      },
      "execution_count": 12,
      "outputs": [
        {
          "output_type": "stream",
          "name": "stdout",
          "text": [
            "Accuracy: 94.73684210526315 %\n"
          ]
        }
      ]
    },
    {
      "cell_type": "markdown",
      "source": [
        "Test with Iris Dataset"
      ],
      "metadata": {
        "id": "m5Mkxx0lSEzs"
      }
    },
    {
      "cell_type": "code",
      "source": [
        "from sklearn.datasets import load_iris\n",
        "\n",
        "iris = load_iris()\n",
        "dir(iris)\n",
        "\n",
        "df2 = pd.DataFrame(iris.data, columns = iris.feature_names)\n",
        "df2['target'] = iris.target\n",
        "df2.head()"
      ],
      "metadata": {
        "colab": {
          "base_uri": "https://localhost:8080/",
          "height": 206
        },
        "id": "PbQxDGchSIXr",
        "outputId": "c107b582-0c71-4d4a-dbd5-3376afad2846"
      },
      "execution_count": 13,
      "outputs": [
        {
          "output_type": "execute_result",
          "data": {
            "text/plain": [
              "   sepal length (cm)  sepal width (cm)  petal length (cm)  petal width (cm)  \\\n",
              "0                5.1               3.5                1.4               0.2   \n",
              "1                4.9               3.0                1.4               0.2   \n",
              "2                4.7               3.2                1.3               0.2   \n",
              "3                4.6               3.1                1.5               0.2   \n",
              "4                5.0               3.6                1.4               0.2   \n",
              "\n",
              "   target  \n",
              "0       0  \n",
              "1       0  \n",
              "2       0  \n",
              "3       0  \n",
              "4       0  "
            ],
            "text/html": [
              "\n",
              "  <div id=\"df-9046eab8-4575-481c-8d40-95bddcdaaf0d\">\n",
              "    <div class=\"colab-df-container\">\n",
              "      <div>\n",
              "<style scoped>\n",
              "    .dataframe tbody tr th:only-of-type {\n",
              "        vertical-align: middle;\n",
              "    }\n",
              "\n",
              "    .dataframe tbody tr th {\n",
              "        vertical-align: top;\n",
              "    }\n",
              "\n",
              "    .dataframe thead th {\n",
              "        text-align: right;\n",
              "    }\n",
              "</style>\n",
              "<table border=\"1\" class=\"dataframe\">\n",
              "  <thead>\n",
              "    <tr style=\"text-align: right;\">\n",
              "      <th></th>\n",
              "      <th>sepal length (cm)</th>\n",
              "      <th>sepal width (cm)</th>\n",
              "      <th>petal length (cm)</th>\n",
              "      <th>petal width (cm)</th>\n",
              "      <th>target</th>\n",
              "    </tr>\n",
              "  </thead>\n",
              "  <tbody>\n",
              "    <tr>\n",
              "      <th>0</th>\n",
              "      <td>5.1</td>\n",
              "      <td>3.5</td>\n",
              "      <td>1.4</td>\n",
              "      <td>0.2</td>\n",
              "      <td>0</td>\n",
              "    </tr>\n",
              "    <tr>\n",
              "      <th>1</th>\n",
              "      <td>4.9</td>\n",
              "      <td>3.0</td>\n",
              "      <td>1.4</td>\n",
              "      <td>0.2</td>\n",
              "      <td>0</td>\n",
              "    </tr>\n",
              "    <tr>\n",
              "      <th>2</th>\n",
              "      <td>4.7</td>\n",
              "      <td>3.2</td>\n",
              "      <td>1.3</td>\n",
              "      <td>0.2</td>\n",
              "      <td>0</td>\n",
              "    </tr>\n",
              "    <tr>\n",
              "      <th>3</th>\n",
              "      <td>4.6</td>\n",
              "      <td>3.1</td>\n",
              "      <td>1.5</td>\n",
              "      <td>0.2</td>\n",
              "      <td>0</td>\n",
              "    </tr>\n",
              "    <tr>\n",
              "      <th>4</th>\n",
              "      <td>5.0</td>\n",
              "      <td>3.6</td>\n",
              "      <td>1.4</td>\n",
              "      <td>0.2</td>\n",
              "      <td>0</td>\n",
              "    </tr>\n",
              "  </tbody>\n",
              "</table>\n",
              "</div>\n",
              "      <button class=\"colab-df-convert\" onclick=\"convertToInteractive('df-9046eab8-4575-481c-8d40-95bddcdaaf0d')\"\n",
              "              title=\"Convert this dataframe to an interactive table.\"\n",
              "              style=\"display:none;\">\n",
              "        \n",
              "  <svg xmlns=\"http://www.w3.org/2000/svg\" height=\"24px\"viewBox=\"0 0 24 24\"\n",
              "       width=\"24px\">\n",
              "    <path d=\"M0 0h24v24H0V0z\" fill=\"none\"/>\n",
              "    <path d=\"M18.56 5.44l.94 2.06.94-2.06 2.06-.94-2.06-.94-.94-2.06-.94 2.06-2.06.94zm-11 1L8.5 8.5l.94-2.06 2.06-.94-2.06-.94L8.5 2.5l-.94 2.06-2.06.94zm10 10l.94 2.06.94-2.06 2.06-.94-2.06-.94-.94-2.06-.94 2.06-2.06.94z\"/><path d=\"M17.41 7.96l-1.37-1.37c-.4-.4-.92-.59-1.43-.59-.52 0-1.04.2-1.43.59L10.3 9.45l-7.72 7.72c-.78.78-.78 2.05 0 2.83L4 21.41c.39.39.9.59 1.41.59.51 0 1.02-.2 1.41-.59l7.78-7.78 2.81-2.81c.8-.78.8-2.07 0-2.86zM5.41 20L4 18.59l7.72-7.72 1.47 1.35L5.41 20z\"/>\n",
              "  </svg>\n",
              "      </button>\n",
              "      \n",
              "  <style>\n",
              "    .colab-df-container {\n",
              "      display:flex;\n",
              "      flex-wrap:wrap;\n",
              "      gap: 12px;\n",
              "    }\n",
              "\n",
              "    .colab-df-convert {\n",
              "      background-color: #E8F0FE;\n",
              "      border: none;\n",
              "      border-radius: 50%;\n",
              "      cursor: pointer;\n",
              "      display: none;\n",
              "      fill: #1967D2;\n",
              "      height: 32px;\n",
              "      padding: 0 0 0 0;\n",
              "      width: 32px;\n",
              "    }\n",
              "\n",
              "    .colab-df-convert:hover {\n",
              "      background-color: #E2EBFA;\n",
              "      box-shadow: 0px 1px 2px rgba(60, 64, 67, 0.3), 0px 1px 3px 1px rgba(60, 64, 67, 0.15);\n",
              "      fill: #174EA6;\n",
              "    }\n",
              "\n",
              "    [theme=dark] .colab-df-convert {\n",
              "      background-color: #3B4455;\n",
              "      fill: #D2E3FC;\n",
              "    }\n",
              "\n",
              "    [theme=dark] .colab-df-convert:hover {\n",
              "      background-color: #434B5C;\n",
              "      box-shadow: 0px 1px 3px 1px rgba(0, 0, 0, 0.15);\n",
              "      filter: drop-shadow(0px 1px 2px rgba(0, 0, 0, 0.3));\n",
              "      fill: #FFFFFF;\n",
              "    }\n",
              "  </style>\n",
              "\n",
              "      <script>\n",
              "        const buttonEl =\n",
              "          document.querySelector('#df-9046eab8-4575-481c-8d40-95bddcdaaf0d button.colab-df-convert');\n",
              "        buttonEl.style.display =\n",
              "          google.colab.kernel.accessAllowed ? 'block' : 'none';\n",
              "\n",
              "        async function convertToInteractive(key) {\n",
              "          const element = document.querySelector('#df-9046eab8-4575-481c-8d40-95bddcdaaf0d');\n",
              "          const dataTable =\n",
              "            await google.colab.kernel.invokeFunction('convertToInteractive',\n",
              "                                                     [key], {});\n",
              "          if (!dataTable) return;\n",
              "\n",
              "          const docLinkHtml = 'Like what you see? Visit the ' +\n",
              "            '<a target=\"_blank\" href=https://colab.research.google.com/notebooks/data_table.ipynb>data table notebook</a>'\n",
              "            + ' to learn more about interactive tables.';\n",
              "          element.innerHTML = '';\n",
              "          dataTable['output_type'] = 'display_data';\n",
              "          await google.colab.output.renderOutput(dataTable, element);\n",
              "          const docLink = document.createElement('div');\n",
              "          docLink.innerHTML = docLinkHtml;\n",
              "          element.appendChild(docLink);\n",
              "        }\n",
              "      </script>\n",
              "    </div>\n",
              "  </div>\n",
              "  "
            ]
          },
          "metadata": {},
          "execution_count": 13
        }
      ]
    },
    {
      "cell_type": "code",
      "source": [
        "#split\n",
        "\n",
        "X2_train, X2_test, Y2_train, Y2_test = train_test_split(df2.drop(['target'], axis = 'columns'), iris.target, test_size = 0.5, random_state=42)"
      ],
      "metadata": {
        "id": "fqPJaQC6Sk9M"
      },
      "execution_count": 15,
      "outputs": []
    },
    {
      "cell_type": "code",
      "source": [
        "X2_train = X2_train.to_numpy()\n",
        "# Y2_train = Y2_train.to_numpy()"
      ],
      "metadata": {
        "id": "Wz6U8DLeTAR1"
      },
      "execution_count": null,
      "outputs": []
    },
    {
      "cell_type": "code",
      "source": [
        "X2_test = X2_test.to_numpy() \n",
        "# Y2_test = Y2_test.to_numpy() "
      ],
      "metadata": {
        "id": "w_t4e7FkTRte"
      },
      "execution_count": null,
      "outputs": []
    },
    {
      "cell_type": "code",
      "source": [
        "Model2 = RandomForest(n_trees=80, sample_sz=None, min_leaf=10, isLLL = False)"
      ],
      "metadata": {
        "id": "r5rEdV0JSzgU"
      },
      "execution_count": 45,
      "outputs": []
    },
    {
      "cell_type": "code",
      "source": [
        "Model2.fit(X2_train, Y2_train)"
      ],
      "metadata": {
        "id": "44S1Hj_kTF_l"
      },
      "execution_count": 46,
      "outputs": []
    },
    {
      "cell_type": "code",
      "source": [
        "y_pred_iris = Model2.predict(X2_test)\n",
        "acc_iris = accuracy(Y2_test, y_pred_iris)\n",
        "print(\"Accuracy:\", acc_iris*100, \"%\")   "
      ],
      "metadata": {
        "colab": {
          "base_uri": "https://localhost:8080/"
        },
        "id": "4zO70IVVTb7f",
        "outputId": "95162b50-a67f-493b-f774-cf4e19368c41"
      },
      "execution_count": 47,
      "outputs": [
        {
          "output_type": "stream",
          "name": "stdout",
          "text": [
            "Accuracy: 69.33333333333334 %\n"
          ]
        }
      ]
    },
    {
      "cell_type": "markdown",
      "source": [
        "MNIST"
      ],
      "metadata": {
        "id": "6UmYy1WQTtnT"
      }
    },
    {
      "cell_type": "code",
      "source": [
        "# Fetching MNIST Dataset\n",
        "from sklearn.datasets import fetch_openml\n",
        "mnist = fetch_openml('mnist_784', version=1)"
      ],
      "metadata": {
        "id": "vVf1GLFMTzZf"
      },
      "execution_count": 24,
      "outputs": []
    },
    {
      "cell_type": "code",
      "source": [
        "# Get the data and target\n",
        "X3, Y3 = mnist[\"data\"], mnist[\"target\"]"
      ],
      "metadata": {
        "id": "yFsYbmLaUFMF"
      },
      "execution_count": 27,
      "outputs": []
    },
    {
      "cell_type": "code",
      "source": [
        "# Split the train and test set\n",
        "X3_train, X3_test, Y3_train, Y3_test = X3[:60000], X3[60000:], Y3[:60000], Y3[60000:]"
      ],
      "metadata": {
        "id": "CjQ4j6RTT4ed"
      },
      "execution_count": 28,
      "outputs": []
    },
    {
      "cell_type": "code",
      "source": [
        "Model3 = RandomForest(n_trees=150, sample_sz=None, min_leaf=5, isLLL = False)"
      ],
      "metadata": {
        "id": "vmIHrcbAUflO"
      },
      "execution_count": 32,
      "outputs": []
    },
    {
      "cell_type": "code",
      "source": [
        "X3_train = X3_train.to_numpy()\n",
        "Y3_train = Y3_train.to_numpy()"
      ],
      "metadata": {
        "id": "anrtZl-lUnct"
      },
      "execution_count": 33,
      "outputs": []
    },
    {
      "cell_type": "code",
      "source": [
        "X3_test = X3_test.to_numpy() \n",
        "Y3_test = Y3_test.to_numpy() "
      ],
      "metadata": {
        "id": "1UytwJQyUu4t"
      },
      "execution_count": 34,
      "outputs": []
    },
    {
      "cell_type": "code",
      "source": [
        "Model3.fit(X3_train, Y3_train)"
      ],
      "metadata": {
        "id": "_2ZFkfCDU1_E"
      },
      "execution_count": null,
      "outputs": []
    },
    {
      "cell_type": "code",
      "source": [
        "y_pred_MNIST = Model3.predict(X3_test)\n",
        "acc_MNIST = accuracy(Y3_test, y_pred_MNIST)\n",
        "print(\"Accuracy:\", acc_iris*100, \"%\")   "
      ],
      "metadata": {
        "id": "mp8_h0bMVPuK"
      },
      "execution_count": null,
      "outputs": []
    },
    {
      "cell_type": "markdown",
      "source": [
        "Genetic ALgorithm"
      ],
      "metadata": {
        "id": "XElUqXm0WxF8"
      }
    },
    {
      "cell_type": "code",
      "source": [
        "!pip3 install pygad"
      ],
      "metadata": {
        "colab": {
          "base_uri": "https://localhost:8080/"
        },
        "id": "XrSVX_PzWwem",
        "outputId": "a71f2bb7-b276-4b78-a938-b624f2e6885e"
      },
      "execution_count": 51,
      "outputs": [
        {
          "output_type": "stream",
          "name": "stdout",
          "text": [
            "Looking in indexes: https://pypi.org/simple, https://us-python.pkg.dev/colab-wheels/public/simple/\n",
            "Collecting pygad\n",
            "  Downloading pygad-2.18.1-py3-none-any.whl (56 kB)\n",
            "\u001b[K     |████████████████████████████████| 56 kB 3.7 MB/s \n",
            "\u001b[?25hRequirement already satisfied: numpy in /usr/local/lib/python3.7/dist-packages (from pygad) (1.21.6)\n",
            "Requirement already satisfied: matplotlib in /usr/local/lib/python3.7/dist-packages (from pygad) (3.2.2)\n",
            "Requirement already satisfied: python-dateutil>=2.1 in /usr/local/lib/python3.7/dist-packages (from matplotlib->pygad) (2.8.2)\n",
            "Requirement already satisfied: kiwisolver>=1.0.1 in /usr/local/lib/python3.7/dist-packages (from matplotlib->pygad) (1.4.4)\n",
            "Requirement already satisfied: cycler>=0.10 in /usr/local/lib/python3.7/dist-packages (from matplotlib->pygad) (0.11.0)\n",
            "Requirement already satisfied: pyparsing!=2.0.4,!=2.1.2,!=2.1.6,>=2.0.1 in /usr/local/lib/python3.7/dist-packages (from matplotlib->pygad) (3.0.9)\n",
            "Requirement already satisfied: typing-extensions in /usr/local/lib/python3.7/dist-packages (from kiwisolver>=1.0.1->matplotlib->pygad) (4.1.1)\n",
            "Requirement already satisfied: six>=1.5 in /usr/local/lib/python3.7/dist-packages (from python-dateutil>=2.1->matplotlib->pygad) (1.15.0)\n",
            "Installing collected packages: pygad\n",
            "Successfully installed pygad-2.18.1\n"
          ]
        }
      ]
    },
    {
      "cell_type": "code",
      "source": [
        "import torch\n",
        "import pygad.torchga\n",
        "import pygad\n",
        "\n",
        "class GeneticAlgo():\n",
        "  def __init__(self, min_samples_split=2, max_depth=100, n_feats=None):\n",
        "        self.min_samples_split = min_samples_split\n",
        "        self.max_depth = max_depth\n",
        "        self.n_feats = n_feats\n",
        "        self.root = None\n",
        "\n",
        "\n",
        "  def fitness_func(solution, sol_idx):\n",
        "    global data_inputs, data_outputs, torch_ga, model, loss_function\n",
        "\n",
        "    predictions = pygad.torchga.predict(model=model, \n",
        "                                        solution=solution, \n",
        "                                        data=data_inputs)\n",
        "    abs_error = loss_function(predictions, data_outputs).detach().numpy() + 0.00000001\n",
        "\n",
        "    solution_fitness = 1.0 / abs_error\n",
        "\n",
        "    return solution_fitness\n",
        "\n",
        "  def callback_generation(ga_instance):\n",
        "    print(\"Generation = {generation}\".format(generation=ga_instance.generations_completed))\n",
        "    print(\"Fitness    = {fitness}\".format(fitness=ga_instance.best_solution()[1]))\n",
        "\n",
        "  # Create the PyTorch model.\n",
        "  input_layer = torch.nn.Linear(3, 2)\n",
        "  relu_layer = torch.nn.ReLU()\n",
        "  output_layer = torch.nn.Linear(2, 1)\n",
        "\n",
        "  model = torch.nn.Sequential(input_layer,\n",
        "                              relu_layer,\n",
        "                              output_layer)\n",
        "  \n",
        "  # Create an instance of the pygad.torchga.TorchGA class to build the initial population.\n",
        "  torch_ga = pygad.torchga.TorchGA(model=model,\n",
        "                                  num_solutions=10)\n",
        "\n",
        "  loss_function = torch.nn.L1Loss()\n",
        "\n",
        "  # Data inputs\n",
        "  data_inputs = torch.tensor([[0.02, 0.1, 0.15],\n",
        "                              [0.7, 0.6, 0.8],\n",
        "                              [1.5, 1.2, 1.7],\n",
        "                              [3.2, 2.9, 3.1]])\n",
        "\n",
        "  # Data outputs\n",
        "  data_outputs = torch.tensor([[0.1],\n",
        "                              [0.6],\n",
        "                              [1.3],\n",
        "                              [2.5]])\n",
        "  \n",
        "  num_generations = 250 # Number of generations.\n",
        "  num_parents_mating = 5 # Number of solutions to be selected as parents in the mating pool.\n",
        "  initial_population = torch_ga.population_weights # Initial population of network weights\n",
        "\n",
        "  ga_instance = pygad.GA(num_generations=num_generations, \n",
        "                        num_parents_mating=num_parents_mating, \n",
        "                        initial_population=initial_population,\n",
        "                        fitness_func=fitness_func,\n",
        "                        on_generation=callback_generation)\n",
        "\n",
        "  ga_instance.run()\n",
        "\n",
        "  # After the generations complete, some plots are showed that summarize how the outputs/fitness values evolve over generations.\n",
        "  ga_instance.plot_fitness(title=\"PyGAD & PyTorch - Iteration vs. Fitness\", linewidth=4)\n",
        "\n",
        "  # Returning the details of the best solution.\n",
        "  solution, solution_fitness, solution_idx = ga_instance.best_solution()\n",
        "  print(\"Fitness value of the best solution = {solution_fitness}\".format(solution_fitness=solution_fitness))\n",
        "  print(\"Index of the best solution : {solution_idx}\".format(solution_idx=solution_idx))\n",
        "\n",
        "  predictions = pygad.torchga.predict(model=model, \n",
        "                                      solution=solution, \n",
        "                                      data=data_inputs)\n",
        "  print(\"Predictions : \\n\", predictions.detach().numpy())\n",
        "\n",
        "  abs_error = loss_function(predictions, data_outputs)\n",
        "  print(\"Absolute Error : \", abs_error.detach().numpy())\n",
        "\n",
        "\n"
      ],
      "metadata": {
        "id": "oVDv30pBW4EZ"
      },
      "execution_count": null,
      "outputs": []
    }
  ]
}